{
 "cells": [
  {
   "cell_type": "markdown",
   "metadata": {},
   "source": [
    "## Codigo Facilito - Curso Profesional de Python"
   ]
  },
  {
   "cell_type": "markdown",
   "metadata": {},
   "source": [
    "## 2. Conceptos Basicos"
   ]
  },
  {
   "cell_type": "markdown",
   "metadata": {},
   "source": [
    "### Declaracion de Variables"
   ]
  },
  {
   "cell_type": "markdown",
   "metadata": {},
   "source": [
    "Una variable es una direccion de memoria que almacena un valor. Son representadas por un nombre y pueden cambiar su valor"
   ]
  },
  {
   "cell_type": "code",
   "execution_count": 1,
   "metadata": {},
   "outputs": [],
   "source": [
    "turor = \"Codi\" #Creo una variable llamada tutor y almaceno un dato tipo string"
   ]
  },
  {
   "cell_type": "code",
   "execution_count": 2,
   "metadata": {},
   "outputs": [
    {
     "name": "stdout",
     "output_type": "stream",
     "text": [
      "Codi\n"
     ]
    }
   ],
   "source": [
    "print(turor) #Visualizo el valor de la variable"
   ]
  },
  {
   "cell_type": "markdown",
   "metadata": {},
   "source": [
    "Declaracion de Variables:\n",
    "\n",
    "1. Nombre de la variable: Nombre claro (descriptivo) y consiso\n",
    "    En caso de necesitar utilizar mas de dos palabras estas deben estar en minusculas y unidas por un guin bajo _ (snake case)\n",
    "2. Signo igual =\n",
    "3. Valor de la variable"
   ]
  },
  {
   "cell_type": "markdown",
   "metadata": {},
   "source": [
    "Una constante almacena un valor que NO puede ser modificado a lo largo de la ejecucion del programa.\n",
    "En Python las constantes NO EXISTEN.\n",
    "\n",
    "Se puede declarar de otra forma para que cuando otro desarrollador la vea la identifique como constante:"
   ]
  },
  {
   "cell_type": "code",
   "execution_count": 3,
   "metadata": {},
   "outputs": [],
   "source": [
    "CONSTANTE = \"Soy una constante\" #Declaro las constante con el nombre en mayuscula"
   ]
  },
  {
   "cell_type": "code",
   "execution_count": 4,
   "metadata": {},
   "outputs": [
    {
     "name": "stdout",
     "output_type": "stream",
     "text": [
      "Soy una constante\n"
     ]
    }
   ],
   "source": [
    "print(CONSTANTE)"
   ]
  },
  {
   "cell_type": "markdown",
   "metadata": {},
   "source": [
    "### Palabras reservadas en Python "
   ]
  },
  {
   "cell_type": "markdown",
   "metadata": {},
   "source": [
    "Las palabras reservadas, como su nombre lo indican, son palabras las cuales el lenguaje de programación ya ha reservado para realizar ciertas tareas.\n",
    "\n",
    "Nosotros no podemos declarar una variable con el mismo nombre que una palabra reservada"
   ]
  },
  {
   "cell_type": "markdown",
   "metadata": {},
   "source": [
    "False\t/ class / \tis\t/ return / None / continue / lambda / try / True / def / nonlocal / while / and / del / not\t / with /  as /\telif / or /\tyield / assert / else /\tpas / break / except /raise"
   ]
  },
  {
   "cell_type": "markdown",
   "metadata": {},
   "source": [
    "## Asignacion Multiple "
   ]
  },
  {
   "cell_type": "code",
   "execution_count": 5,
   "metadata": {},
   "outputs": [],
   "source": [
    "#Declaro las variables en lineas de codigo por separado\n",
    "\n",
    "valor_uno = 10\n",
    "valor_dos = \"Codi\"\n",
    "valor_tre = 10 * 20"
   ]
  },
  {
   "cell_type": "code",
   "execution_count": 8,
   "metadata": {},
   "outputs": [
    {
     "name": "stdout",
     "output_type": "stream",
     "text": [
      "10\n",
      "Codi\n",
      "200\n"
     ]
    }
   ],
   "source": [
    "#Imprimo las tres variables\n",
    "\n",
    "print(valor_uno)\n",
    "print(valor_dos)\n",
    "print(valor_tre)"
   ]
  },
  {
   "cell_type": "code",
   "execution_count": 10,
   "metadata": {},
   "outputs": [],
   "source": [
    "#Puedo declarar multiples varibales en una sola linea de codigo\n",
    "#No sobreabundar en la declaracion de variables de forma tal que el codigo sea legible\n",
    "\n",
    "valor_uno,valor_dos,valor_tre = 10,\"Codi\",10 * 20"
   ]
  },
  {
   "cell_type": "code",
   "execution_count": 9,
   "metadata": {},
   "outputs": [
    {
     "name": "stdout",
     "output_type": "stream",
     "text": [
      "10\n",
      "Codi\n",
      "200\n"
     ]
    }
   ],
   "source": [
    "#Imprimo las tres variables\n",
    "\n",
    "print(valor_uno)\n",
    "print(valor_dos)\n",
    "print(valor_tre)"
   ]
  },
  {
   "cell_type": "markdown",
   "metadata": {},
   "source": [
    "### Operadores Relacionales y Logicos "
   ]
  },
  {
   "cell_type": "markdown",
   "metadata": {},
   "source": [
    "Operadores Relacionales: Son simbolos que utilizares para comparar valores entre si. Como resultado se obtiene un valor booleano True / False"
   ]
  },
  {
   "cell_type": "code",
   "execution_count": 13,
   "metadata": {},
   "outputs": [],
   "source": [
    "variable_uno = 10\n",
    "variable_dos = 18"
   ]
  },
  {
   "cell_type": "code",
   "execution_count": 15,
   "metadata": {},
   "outputs": [
    {
     "data": {
      "text/plain": [
       "False"
      ]
     },
     "execution_count": 15,
     "metadata": {},
     "output_type": "execute_result"
    }
   ],
   "source": [
    "mayor = variable_uno > variable_dos\n",
    "mayor"
   ]
  },
  {
   "cell_type": "code",
   "execution_count": 17,
   "metadata": {},
   "outputs": [
    {
     "data": {
      "text/plain": [
       "True"
      ]
     },
     "execution_count": 17,
     "metadata": {},
     "output_type": "execute_result"
    }
   ],
   "source": [
    "menor = variable_uno < variable_dos\n",
    "menor"
   ]
  },
  {
   "cell_type": "code",
   "execution_count": 18,
   "metadata": {},
   "outputs": [
    {
     "data": {
      "text/plain": [
       "False"
      ]
     },
     "execution_count": 18,
     "metadata": {},
     "output_type": "execute_result"
    }
   ],
   "source": [
    "mayor_igual = variable_uno >= variable_dos\n",
    "mayor_igual"
   ]
  },
  {
   "cell_type": "code",
   "execution_count": 19,
   "metadata": {},
   "outputs": [
    {
     "data": {
      "text/plain": [
       "True"
      ]
     },
     "execution_count": 19,
     "metadata": {},
     "output_type": "execute_result"
    }
   ],
   "source": [
    "menor_igual = variable_uno <= variable_dos\n",
    "menor_igual"
   ]
  },
  {
   "cell_type": "code",
   "execution_count": 20,
   "metadata": {},
   "outputs": [
    {
     "data": {
      "text/plain": [
       "False"
      ]
     },
     "execution_count": 20,
     "metadata": {},
     "output_type": "execute_result"
    }
   ],
   "source": [
    "igual = variable_uno == variable_dos\n",
    "igual"
   ]
  },
  {
   "cell_type": "code",
   "execution_count": 21,
   "metadata": {},
   "outputs": [
    {
     "data": {
      "text/plain": [
       "True"
      ]
     },
     "execution_count": 21,
     "metadata": {},
     "output_type": "execute_result"
    }
   ],
   "source": [
    "diferente = variable_uno != variable_dos\n",
    "diferente"
   ]
  },
  {
   "cell_type": "markdown",
   "metadata": {},
   "source": [
    "Segun se observo todos los resultados son Booleanos"
   ]
  },
  {
   "cell_type": "markdown",
   "metadata": {},
   "source": [
    "Operadores Logicos: Se obtendra tambien un resultado logico"
   ]
  },
  {
   "cell_type": "code",
   "execution_count": 24,
   "metadata": {},
   "outputs": [
    {
     "data": {
      "text/plain": [
       "True"
      ]
     },
     "execution_count": 24,
     "metadata": {},
     "output_type": "execute_result"
    }
   ],
   "source": [
    "#Operador logico and (Y logica)\n",
    "\n",
    "resultado = True and True and diferente\n",
    "resultado"
   ]
  },
  {
   "cell_type": "code",
   "execution_count": 25,
   "metadata": {},
   "outputs": [
    {
     "data": {
      "text/plain": [
       "True"
      ]
     },
     "execution_count": 25,
     "metadata": {},
     "output_type": "execute_result"
    }
   ],
   "source": [
    "#Operador logico or (O logica)\n",
    "\n",
    "operador = True or True or mayor\n",
    "operador"
   ]
  },
  {
   "cell_type": "code",
   "execution_count": 28,
   "metadata": {},
   "outputs": [
    {
     "data": {
      "text/plain": [
       "True"
      ]
     },
     "execution_count": 28,
     "metadata": {},
     "output_type": "execute_result"
    }
   ],
   "source": [
    "#Operador not (negacion)\n",
    "\n",
    "not False"
   ]
  },
  {
   "cell_type": "code",
   "execution_count": 34,
   "metadata": {},
   "outputs": [],
   "source": [
    "# Se pueden comparar si dos valores enteros son iguales por medio de la palabra reservada IS\n",
    "\n",
    "uno = 10\n",
    "dos = 10"
   ]
  },
  {
   "cell_type": "code",
   "execution_count": 35,
   "metadata": {},
   "outputs": [
    {
     "data": {
      "text/plain": [
       "True"
      ]
     },
     "execution_count": 35,
     "metadata": {},
     "output_type": "execute_result"
    }
   ],
   "source": [
    "uno is dos"
   ]
  },
  {
   "cell_type": "markdown",
   "metadata": {},
   "source": [
    "### Entrada de datos por teclado "
   ]
  },
  {
   "cell_type": "markdown",
   "metadata": {},
   "source": [
    "Cuanto defino los datos directamente dentro del codigo esto se denomina `Hard Coding`. \n",
    "\n",
    "Una forma mas flexible de obtener datos es por medio de interactuar con el usuario: Utilizo la funcion `input()`"
   ]
  },
  {
   "cell_type": "code",
   "execution_count": 36,
   "metadata": {},
   "outputs": [
    {
     "name": "stdout",
     "output_type": "stream",
     "text": [
      "¿Cual es tu nombre?\n",
      "Claudio\n",
      "Hola Claudio\n"
     ]
    }
   ],
   "source": [
    "print(\"¿Cual es tu nombre?\")\n",
    "nombre = input()\n",
    "print(\"Hola\", nombre)"
   ]
  },
  {
   "cell_type": "markdown",
   "metadata": {},
   "source": [
    "La funcion input() siempre devuelve un string. Si necesito otro tipo de dato necesito convertirlo"
   ]
  },
  {
   "cell_type": "code",
   "execution_count": 37,
   "metadata": {},
   "outputs": [
    {
     "name": "stdout",
     "output_type": "stream",
     "text": [
      "¿Cual es tu edad?\n",
      "12\n"
     ]
    }
   ],
   "source": [
    "print(\"¿Cual es tu edad?\")\n",
    "edad = int(input()) #Cambio el string a un entero por medio de int"
   ]
  },
  {
   "cell_type": "code",
   "execution_count": 38,
   "metadata": {},
   "outputs": [
    {
     "name": "stdout",
     "output_type": "stream",
     "text": [
      "¿Cual es tu peso?\n",
      "12.3\n"
     ]
    }
   ],
   "source": [
    "print(\"¿Cual es tu peso?\")\n",
    "peso = float(input()) #Cambio el string a un punto floatante por medio de float"
   ]
  },
  {
   "cell_type": "code",
   "execution_count": 41,
   "metadata": {},
   "outputs": [
    {
     "name": "stdout",
     "output_type": "stream",
     "text": [
      "¿Estas autorizado (si/no)?\n",
      "si\n"
     ]
    },
    {
     "data": {
      "text/plain": [
       "True"
      ]
     },
     "execution_count": 41,
     "metadata": {},
     "output_type": "execute_result"
    }
   ],
   "source": [
    "print(\"¿Estas autorizado (si/no)?\")\n",
    "autorizado = input() == \"si\" #Lo defino de esta forma para evaluar una condicion logica\n",
    "autorizado"
   ]
  },
  {
   "cell_type": "markdown",
   "metadata": {},
   "source": [
    "El texto que quiero mostrar por pantalla lo puedo incluir dentro de input() para que quede todo junto:"
   ]
  },
  {
   "cell_type": "code",
   "execution_count": 44,
   "metadata": {},
   "outputs": [
    {
     "name": "stdout",
     "output_type": "stream",
     "text": [
      "¿Cual es tu nombre?\n",
      "claudio\n",
      "¿Cual es tu edad?\n",
      "23\n"
     ]
    }
   ],
   "source": [
    "nombre = input(\"¿Cual es tu nombre?\\n\")\n",
    "edad = input(\"¿Cual es tu edad?\\n\")"
   ]
  },
  {
   "cell_type": "markdown",
   "metadata": {},
   "source": [
    "### Comentarios \n",
    "\n",
    "Cuando necesitamos dejar anotaciones sobre lo que realizamos o para explicar como escribimos el codigo dejamos comentarios. Existen diferentes formas de dejar comentarios"
   ]
  },
  {
   "cell_type": "code",
   "execution_count": 45,
   "metadata": {},
   "outputs": [
    {
     "name": "stdout",
     "output_type": "stream",
     "text": [
      "Hola Mundo\n"
     ]
    }
   ],
   "source": [
    "#Si es una sola linea lo realizamos de esta forma\n",
    "print(\"Hola Mundo\")"
   ]
  },
  {
   "cell_type": "code",
   "execution_count": 47,
   "metadata": {},
   "outputs": [
    {
     "name": "stdout",
     "output_type": "stream",
     "text": [
      "Hola Mundo\n"
     ]
    }
   ],
   "source": [
    "'''Este es un \n",
    "comentario con \n",
    "saltos de lineas'''\n",
    "\n",
    "print(\"Hola Mundo\")"
   ]
  },
  {
   "cell_type": "markdown",
   "metadata": {},
   "source": [
    "### Ejercicios"
   ]
  },
  {
   "cell_type": "markdown",
   "metadata": {},
   "source": [
    "Los siguientes, son una serie de ejercicios que tienen como finalidad el que tu practiques los conocimientos adquiridos a lo largo de este segundo bloque.\n",
    "\n",
    "Dado de los valores ingresados por el usuario (base, altura) calcular y mostrar en pantalla el área de un triángulo.\n",
    "\n",
    "Convertir la cantidad de dólares ingresados por un usuario a pesos colombianos y mostrar el resultado en pantalla.\n",
    "\n",
    "Convertir los grados centígrados ingresados por un usuario a grados Fahrenheit y mostrar el resultado en pantalla.\n",
    "\n",
    "Mostrar en pantalla la cantidad de segundos que tiene un lustro.\n",
    "\n",
    "Calcular la cantidad de segundos que le toma a la luz viajar del sol a Marte y mostrar el resultado en pantalla.\n",
    "\n",
    "Calcular el número de vueltas que da una llanta en 1 km, dado que el diámetro de la llanta es de 50 cm, mostrar el resultado en pantalla.\n",
    "\n",
    "Calcular y mostrar en pantalla la longitud de la sombra de un edificio de 20 metros de altura cuando el ángulo que forman los rayos del sol con el suelo es de 22º.\n",
    "\n",
    "Mostrar en pantalla True o False si la edad ingresada por dos usuarios es la misma.\n",
    "\n",
    "Mostrar en pantalla la cantidad de meses transcurridos desde la fecha de nacimiento de un usuario.\n",
    "\n",
    "Tenemos un artículo en donde explicamos más en detalle el trabajo con fechas\n",
    "\n",
    "Mostrar en pantalla el promedio de un alumno que ha cursado 5 materias (Español, Matemáticas, Economía, Programación, Ingles)."
   ]
  }
 ],
 "metadata": {
  "kernelspec": {
   "display_name": "Python 3",
   "language": "python",
   "name": "python3"
  },
  "language_info": {
   "codemirror_mode": {
    "name": "ipython",
    "version": 3
   },
   "file_extension": ".py",
   "mimetype": "text/x-python",
   "name": "python",
   "nbconvert_exporter": "python",
   "pygments_lexer": "ipython3",
   "version": "3.7.1"
  }
 },
 "nbformat": 4,
 "nbformat_minor": 2
}
